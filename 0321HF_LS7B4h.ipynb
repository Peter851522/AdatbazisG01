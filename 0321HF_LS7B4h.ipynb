{
    "metadata": {
        "kernelspec": {
            "name": "SQL",
            "display_name": "SQL",
            "language": "sql"
        },
        "language_info": {
            "name": "sql",
            "version": ""
        }
    },
    "nbformat_minor": 2,
    "nbformat": 4,
    "cells": [
        {
            "cell_type": "markdown",
            "source": [
                "Üres, és nem üres <span style=\"color: var(--vscode-foreground);\">sorok száma</span>"
            ],
            "metadata": {
                "azdata_cell_guid": "6ed98ef8-e986-4a87-b25e-944b10bd0f1a"
            },
            "attachments": {}
        },
        {
            "cell_type": "code",
            "source": [
                "SELECT sor_tipus\r\n",
                ", COUNT(*) sor_db\r\n",
                "FROM (SELECT IIF(SZAMLA_CIM IS NULL, 'Null', 'Not Empty') AS sor_tipus\r\n",
                "FROM Rendeles) sorok\r\n",
                "GROUP BY sor_tipus\r\n",
                "\r\n",
                ""
            ],
            "metadata": {
                "azdata_cell_guid": "dc900eb7-ccc8-4129-bcd7-e6c6b54eeec4",
                "language": "sql"
            },
            "outputs": [
                {
                    "output_type": "display_data",
                    "data": {
                        "text/html": "(2 rows affected)"
                    },
                    "metadata": {}
                },
                {
                    "output_type": "display_data",
                    "data": {
                        "text/html": "Total execution time: 00:00:00.315"
                    },
                    "metadata": {}
                },
                {
                    "output_type": "execute_result",
                    "metadata": {},
                    "execution_count": 2,
                    "data": {
                        "application/vnd.dataresource+json": {
                            "schema": {
                                "fields": [
                                    {
                                        "name": "sor_tipus"
                                    },
                                    {
                                        "name": "sor_db"
                                    }
                                ]
                            },
                            "data": [
                                {
                                    "sor_tipus": "Null",
                                    "sor_db": "25535"
                                },
                                {
                                    "sor_tipus": "Not Empty",
                                    "sor_db": "2550"
                                }
                            ]
                        },
                        "text/html": [
                            "<table>",
                            "<tr><th>sor_tipus</th><th>sor_db</th></tr>",
                            "<tr><td>Null</td><td>25535</td></tr>",
                            "<tr><td>Not Empty</td><td>2550</td></tr>",
                            "</table>"
                        ]
                    }
                }
            ],
            "execution_count": 2
        },
        {
            "cell_type": "markdown",
            "source": [
                "Login szövegek hosszúságának adatai"
            ],
            "metadata": {
                "azdata_cell_guid": "8d37a08c-8106-4ec9-b991-d0331f25da0d"
            },
            "attachments": {}
        },
        {
            "cell_type": "code",
            "source": [
                "SELECT MIN(LEN([LOGIN])) AS login_min_hossz\r\n",
                ", MAX(LEN([LOGIN])) AS login_max_hossz\r\n",
                ", AVG(LEN([LOGIN])) AS login_atlag_hossz\r\n",
                ", STDEV(LEN([LOGIN])) AS login_stddev_hossz\r\n",
                ", VAR(LEN([LOGIN])) AS login_var_hossz\r\n",
                "FROM Rendeles\r\n",
                "WHERE [LOGIN] IS NOT NULL \r\n",
                "AND LEN([LOGIN]) > 0"
            ],
            "metadata": {
                "azdata_cell_guid": "f0f62730-f3dc-43df-8199-1bdc1b1a156f",
                "language": "sql"
            },
            "outputs": [
                {
                    "output_type": "display_data",
                    "data": {
                        "text/html": "(1 row affected)"
                    },
                    "metadata": {}
                },
                {
                    "output_type": "display_data",
                    "data": {
                        "text/html": "Total execution time: 00:00:00.055"
                    },
                    "metadata": {}
                },
                {
                    "output_type": "execute_result",
                    "metadata": {},
                    "execution_count": 3,
                    "data": {
                        "application/vnd.dataresource+json": {
                            "schema": {
                                "fields": [
                                    {
                                        "name": "login_min_hossz"
                                    },
                                    {
                                        "name": "login_max_hossz"
                                    },
                                    {
                                        "name": "login_atlag_hossz"
                                    },
                                    {
                                        "name": "login_stddev_hossz"
                                    },
                                    {
                                        "name": "login_var_hossz"
                                    }
                                ]
                            },
                            "data": [
                                {
                                    "login_min_hossz": "3",
                                    "login_max_hossz": "11",
                                    "login_atlag_hossz": "6",
                                    "login_stddev_hossz": "1,5167534299268313",
                                    "login_var_hossz": "2,300540967194807"
                                }
                            ]
                        },
                        "text/html": [
                            "<table>",
                            "<tr><th>login_min_hossz</th><th>login_max_hossz</th><th>login_atlag_hossz</th><th>login_stddev_hossz</th><th>login_var_hossz</th></tr>",
                            "<tr><td>3</td><td>11</td><td>6</td><td>1,5167534299268313</td><td>2,300540967194807</td></tr>",
                            "</table>"
                        ]
                    }
                }
            ],
            "execution_count": 3
        },
        {
            "cell_type": "markdown",
            "source": [
                "Fizetési módok hány százalékát teszik ki az összes rendelésnek:"
            ],
            "metadata": {
                "azdata_cell_guid": "d1f96ec4-4727-4153-ade8-83bbee041ee8"
            },
            "attachments": {}
        },
        {
            "cell_type": "code",
            "source": [
                "SELECT FIZ_MOD\r\n",
                ", COUNT(*) * 100.00 / SUM(COUNT(*)) OVER() AS szazalek\r\n",
                "FROM Rendeles\r\n",
                "WHERE FIZ_MOD IS NOT NULL\r\n",
                "GROUP BY FIZ_MOD"
            ],
            "metadata": {
                "language": "sql",
                "azdata_cell_guid": "931fa686-f516-4a21-97a5-606637146b82"
            },
            "outputs": [
                {
                    "output_type": "display_data",
                    "data": {
                        "text/html": "(3 rows affected)"
                    },
                    "metadata": {}
                },
                {
                    "output_type": "display_data",
                    "data": {
                        "text/html": "Total execution time: 00:00:00.050"
                    },
                    "metadata": {}
                },
                {
                    "output_type": "execute_result",
                    "metadata": {},
                    "execution_count": 21,
                    "data": {
                        "application/vnd.dataresource+json": {
                            "schema": {
                                "fields": [
                                    {
                                        "name": "FIZ_MOD"
                                    },
                                    {
                                        "name": "szazalek"
                                    }
                                ]
                            },
                            "data": [
                                {
                                    "FIZ_MOD": "Bankkártya",
                                    "szazalek": "49.8593555278618"
                                },
                                {
                                    "FIZ_MOD": "Átutalás",
                                    "szazalek": "40.1780309773900"
                                },
                                {
                                    "FIZ_MOD": "Készpénz",
                                    "szazalek": "9.9626134947480"
                                }
                            ]
                        },
                        "text/html": [
                            "<table>",
                            "<tr><th>FIZ_MOD</th><th>szazalek</th></tr>",
                            "<tr><td>Bankkártya</td><td>49.8593555278618</td></tr>",
                            "<tr><td>Átutalás</td><td>40.1780309773900</td></tr>",
                            "<tr><td>Készpénz</td><td>9.9626134947480</td></tr>",
                            "</table>"
                        ]
                    }
                }
            ],
            "execution_count": 21
        }
    ]
}